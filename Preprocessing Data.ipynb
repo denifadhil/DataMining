{
  "nbformat": 4,
  "nbformat_minor": 0,
  "metadata": {
    "colab": {
      "name": "Untitled0.ipynb",
      "provenance": [],
      "authorship_tag": "ABX9TyMdVCT/T42SHzO4ka70Hexx",
      "include_colab_link": true
    },
    "kernelspec": {
      "name": "python3",
      "display_name": "Python 3"
    },
    "language_info": {
      "name": "python"
    }
  },
  "cells": [
    {
      "cell_type": "markdown",
      "metadata": {
        "id": "view-in-github",
        "colab_type": "text"
      },
      "source": [
        "<a href=\"https://colab.research.google.com/github/denifadhil/DataMining/blob/main/Preprocessing%20Data.ipynb\" target=\"_parent\"><img src=\"https://colab.research.google.com/assets/colab-badge.svg\" alt=\"Open In Colab\"/></a>"
      ]
    },
    {
      "cell_type": "code",
      "execution_count": 3,
      "metadata": {
        "id": "ld6Ek0AOnuRA"
      },
      "outputs": [],
      "source": [
        "import numpy as np\n",
        "import matplotlib.pyplot as plt\n",
        "import pandas as pd"
      ]
    },
    {
      "cell_type": "code",
      "source": [
        "dataset = pd.read_csv('Data.csv')\n",
        "x = dataset.iloc[:, :-1].values\n",
        "y = dataset.iloc[:, -1].values"
      ],
      "metadata": {
        "id": "cUUJFUJAskEt"
      },
      "execution_count": 4,
      "outputs": []
    },
    {
      "cell_type": "code",
      "source": [
        "print(x)"
      ],
      "metadata": {
        "colab": {
          "base_uri": "https://localhost:8080/"
        },
        "id": "0KrJHsu3skIE",
        "outputId": "2497ec19-e93f-443b-ce81-5fbb1d275dc2"
      },
      "execution_count": 5,
      "outputs": [
        {
          "output_type": "stream",
          "name": "stdout",
          "text": [
            "[['ale-ale' 10.0 20000.0]\n",
            " ['kopikap' nan 5000.0]\n",
            " ['frestea' 3.0 6000.0]\n",
            " ['fanta' 2.0 nan]\n",
            " ['sprite' 3.0 15000.0]\n",
            " ['tehpucuk' 4.0 16000.0]\n",
            " ['fruittea' 2.0 12000.0]\n",
            " ['LeMinerale' 5.0 50000.0]]\n"
          ]
        }
      ]
    },
    {
      "cell_type": "code",
      "source": [
        "print(y)"
      ],
      "metadata": {
        "colab": {
          "base_uri": "https://localhost:8080/"
        },
        "id": "l3X27f-vs0gc",
        "outputId": "de7801f5-cdf5-426f-c6bf-ac8e447bd893"
      },
      "execution_count": 6,
      "outputs": [
        {
          "output_type": "stream",
          "name": "stdout",
          "text": [
            "[' yes' ' yes' ' no' 'yes' 'no' ' yes' ' no' ' yes']\n"
          ]
        }
      ]
    },
    {
      "cell_type": "code",
      "source": [
        "from sklearn.impute import SimpleImputer\n",
        "imputer = SimpleImputer(missing_values=np.nan, strategy='mean')\n",
        "imputer.fit(x[:, 1:3])\n",
        "x[:, 1:3] = imputer.transform(x[:, 1:3])"
      ],
      "metadata": {
        "id": "2rg-Nl-Ks3Tr"
      },
      "execution_count": 7,
      "outputs": []
    },
    {
      "cell_type": "code",
      "source": [
        "print(x)"
      ],
      "metadata": {
        "colab": {
          "base_uri": "https://localhost:8080/"
        },
        "id": "f0wEydR-s8zH",
        "outputId": "28b68193-0976-433e-a39d-c60cba2a27f1"
      },
      "execution_count": 8,
      "outputs": [
        {
          "output_type": "stream",
          "name": "stdout",
          "text": [
            "[['ale-ale' 10.0 20000.0]\n",
            " ['kopikap' 4.142857142857143 5000.0]\n",
            " ['frestea' 3.0 6000.0]\n",
            " ['fanta' 2.0 17714.285714285714]\n",
            " ['sprite' 3.0 15000.0]\n",
            " ['tehpucuk' 4.0 16000.0]\n",
            " ['fruittea' 2.0 12000.0]\n",
            " ['LeMinerale' 5.0 50000.0]]\n"
          ]
        }
      ]
    },
    {
      "cell_type": "code",
      "source": [
        "from sklearn.compose import ColumnTransformer\n",
        "from sklearn.preprocessing import OneHotEncoder\n",
        "ct = ColumnTransformer(transformers=[('encoder', OneHotEncoder(), [0])], remainder='passthrough')\n",
        "x = np.array(ct.fit_transform(x))"
      ],
      "metadata": {
        "id": "XbtV-H0vtCls"
      },
      "execution_count": 10,
      "outputs": []
    },
    {
      "cell_type": "code",
      "source": [
        "print(x)"
      ],
      "metadata": {
        "colab": {
          "base_uri": "https://localhost:8080/"
        },
        "id": "KDj77-IdtDcr",
        "outputId": "be77c51a-12a4-4ea1-b539-89c828c90a7c"
      },
      "execution_count": 11,
      "outputs": [
        {
          "output_type": "stream",
          "name": "stdout",
          "text": [
            "[[0.0 1.0 0.0 0.0 0.0 0.0 0.0 0.0 10.0 20000.0]\n",
            " [0.0 0.0 0.0 0.0 0.0 1.0 0.0 0.0 4.142857142857143 5000.0]\n",
            " [0.0 0.0 0.0 1.0 0.0 0.0 0.0 0.0 3.0 6000.0]\n",
            " [0.0 0.0 1.0 0.0 0.0 0.0 0.0 0.0 2.0 17714.285714285714]\n",
            " [0.0 0.0 0.0 0.0 0.0 0.0 1.0 0.0 3.0 15000.0]\n",
            " [0.0 0.0 0.0 0.0 0.0 0.0 0.0 1.0 4.0 16000.0]\n",
            " [0.0 0.0 0.0 0.0 1.0 0.0 0.0 0.0 2.0 12000.0]\n",
            " [1.0 0.0 0.0 0.0 0.0 0.0 0.0 0.0 5.0 50000.0]]\n"
          ]
        }
      ]
    },
    {
      "cell_type": "code",
      "source": [
        "from sklearn.preprocessing import LabelEncoder\n",
        "le = LabelEncoder()\n",
        "y = le.fit_transform(y)"
      ],
      "metadata": {
        "id": "4Le2BAhCtF5b"
      },
      "execution_count": 12,
      "outputs": []
    },
    {
      "cell_type": "code",
      "source": [
        "print(y)"
      ],
      "metadata": {
        "colab": {
          "base_uri": "https://localhost:8080/"
        },
        "id": "3Siw5SidtIq4",
        "outputId": "d97cf8af-13c0-486a-e11a-cbd4f04dced3"
      },
      "execution_count": 13,
      "outputs": [
        {
          "output_type": "stream",
          "name": "stdout",
          "text": [
            "[1 1 0 3 2 1 0 1]\n"
          ]
        }
      ]
    },
    {
      "cell_type": "code",
      "source": [
        "from sklearn.model_selection import train_test_split\n",
        "x_train, x_test, y_train, y_test = train_test_split(x, y, test_size = 0.2, random_state = 1)\n"
      ],
      "metadata": {
        "id": "-L_jDizWtaGH"
      },
      "execution_count": 14,
      "outputs": []
    },
    {
      "cell_type": "code",
      "source": [
        "print(x_train)"
      ],
      "metadata": {
        "colab": {
          "base_uri": "https://localhost:8080/"
        },
        "id": "1ivEk8Eztc45",
        "outputId": "fe5c8c49-7cfb-4dbe-dfd0-2c570afb0a79"
      },
      "execution_count": 15,
      "outputs": [
        {
          "output_type": "stream",
          "name": "stdout",
          "text": [
            "[[0.0 0.0 0.0 0.0 0.0 1.0 0.0 0.0 4.142857142857143 5000.0]\n",
            " [0.0 0.0 0.0 0.0 1.0 0.0 0.0 0.0 2.0 12000.0]\n",
            " [0.0 1.0 0.0 0.0 0.0 0.0 0.0 0.0 10.0 20000.0]\n",
            " [0.0 0.0 0.0 0.0 0.0 0.0 1.0 0.0 3.0 15000.0]\n",
            " [0.0 0.0 1.0 0.0 0.0 0.0 0.0 0.0 2.0 17714.285714285714]\n",
            " [0.0 0.0 0.0 0.0 0.0 0.0 0.0 1.0 4.0 16000.0]]\n"
          ]
        }
      ]
    },
    {
      "cell_type": "code",
      "source": [
        "print(x_test)"
      ],
      "metadata": {
        "colab": {
          "base_uri": "https://localhost:8080/"
        },
        "id": "_K-QVNGStfLN",
        "outputId": "eed5eb2b-dd4c-409f-f607-7d46a141643a"
      },
      "execution_count": 16,
      "outputs": [
        {
          "output_type": "stream",
          "name": "stdout",
          "text": [
            "[[1.0 0.0 0.0 0.0 0.0 0.0 0.0 0.0 5.0 50000.0]\n",
            " [0.0 0.0 0.0 1.0 0.0 0.0 0.0 0.0 3.0 6000.0]]\n"
          ]
        }
      ]
    },
    {
      "cell_type": "code",
      "source": [
        "print(y_train)"
      ],
      "metadata": {
        "colab": {
          "base_uri": "https://localhost:8080/"
        },
        "id": "x3UnfPTXthk8",
        "outputId": "d41c30d0-d727-4adb-b782-608ecb1048f0"
      },
      "execution_count": 17,
      "outputs": [
        {
          "output_type": "stream",
          "name": "stdout",
          "text": [
            "[1 0 1 2 3 1]\n"
          ]
        }
      ]
    },
    {
      "cell_type": "code",
      "source": [
        "print(y_test)"
      ],
      "metadata": {
        "colab": {
          "base_uri": "https://localhost:8080/"
        },
        "id": "ppcrOY7dtkCC",
        "outputId": "19755b1a-adde-4b56-d278-d4f4a3811043"
      },
      "execution_count": 18,
      "outputs": [
        {
          "output_type": "stream",
          "name": "stdout",
          "text": [
            "[1 0]\n"
          ]
        }
      ]
    },
    {
      "cell_type": "code",
      "source": [
        "from sklearn.preprocessing import StandardScaler\n",
        "sc = StandardScaler()\n",
        "x_train[:, 3:] = sc.fit_transform(x_train[:, 3:])\n",
        "x_test[:, 3:] = sc.transform(x_test[:, 3:])"
      ],
      "metadata": {
        "id": "sA3DPj9dtmkj"
      },
      "execution_count": 20,
      "outputs": []
    },
    {
      "cell_type": "code",
      "source": [
        "print(x_train)"
      ],
      "metadata": {
        "colab": {
          "base_uri": "https://localhost:8080/"
        },
        "id": "IZ-3YPyCtq8i",
        "outputId": "ba6c5765-5c0e-4e79-8900-bd96fa0ee754"
      },
      "execution_count": 21,
      "outputs": [
        {
          "output_type": "stream",
          "name": "stdout",
          "text": [
            "[[0.0 0.0 0.0 0.0 -0.44721359549995787 2.2360679774997894\n",
            "  -0.44721359549995787 -0.44721359549995787 -0.01742625780188706\n",
            "  -1.9271070484863606]\n",
            " [0.0 0.0 0.0 0.0 2.2360679774997894 -0.44721359549995787\n",
            "  -0.44721359549995787 -0.44721359549995787 -0.8016078588868077\n",
            "  -0.47436481193510394]\n",
            " [0.0 1.0 0.0 0.0 -0.44721359549995787 -0.44721359549995787\n",
            "  -0.44721359549995787 -0.44721359549995787 2.1260034518302287\n",
            "  1.1859120298377608]\n",
            " [0.0 0.0 0.0 0.0 -0.44721359549995787 -0.44721359549995787\n",
            "  2.2360679774997894 -0.44721359549995787 -0.43565644504717815\n",
            "  0.14823900372972032]\n",
            " [0.0 0.0 1.0 0.0 -0.44721359549995787 -0.44721359549995787\n",
            "  -0.44721359549995787 -0.44721359549995787 -0.8016078588868077\n",
            "  0.7115472179026564]\n",
            " [0.0 0.0 0.0 0.0 -0.44721359549995787 -0.44721359549995787\n",
            "  -0.44721359549995787 2.2360679774997894 -0.06970503120754856\n",
            "  0.3557736089513284]]\n"
          ]
        }
      ]
    },
    {
      "cell_type": "code",
      "source": [
        "print(x_test)"
      ],
      "metadata": {
        "colab": {
          "base_uri": "https://localhost:8080/"
        },
        "id": "MCyyoJOytuou",
        "outputId": "1ca60f8a-b92f-4694-97ff-b597bcf1b69c"
      },
      "execution_count": 23,
      "outputs": [
        {
          "output_type": "stream",
          "name": "stdout",
          "text": [
            "[[1.0 0.0 0.0 0.0 -0.44721359549995787 -0.44721359549995787\n",
            "  -0.44721359549995787 -0.44721359549995787 0.296246382632081\n",
            "  7.411950186486004]\n",
            " [0.0 0.0 0.0 1.0 -0.44721359549995787 -0.44721359549995787\n",
            "  -0.44721359549995787 -0.44721359549995787 -0.43565644504717815\n",
            "  -1.7195724432647523]]\n"
          ]
        }
      ]
    }
  ]
}